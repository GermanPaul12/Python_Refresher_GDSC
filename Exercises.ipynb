{
 "cells": [
  {
   "cell_type": "markdown",
   "metadata": {},
   "source": [
    "# Python Refresher Exercises"
   ]
  },
  {
   "cell_type": "markdown",
   "metadata": {},
   "source": [
    "#### Exercises for the GDSC Refresher Session"
   ]
  },
  {
   "cell_type": "code",
   "execution_count": 4,
   "metadata": {},
   "outputs": [],
   "source": [
    "#! Exercise 1\n",
    "\n",
    "# Write a Python function that checks whether a passed string is a palindrome or not.\n",
    "# Note: A palindrome is a word, phrase, or sequence that reads the same backward as forward\n",
    "# e.g., \"madam\" or \"nurses run.\"\n",
    "\n",
    "#! Exercise 2\n",
    "\n",
    "# Create a class called \"Triangle\" that has three attributes a,b,c \n",
    "# Each attribute stands for a length of the triangle\n",
    "# Create a method called \"is_valid\" which returns if a triangle can be created with the three sides\n",
    "# Return either True or False\n",
    "\n",
    "#! Exercise 3\n",
    "\n",
    "# Create a function \"fib\" which takes a number \"n\" as an argument and returns the sum of the fibonacci sequence up to the number `n`.\n",
    "# Do it recursively\n",
    "\n",
    "#! Exercise 4\n",
    "\n",
    "# Binary Search\n",
    "# https://leetcode.com/problems/first-bad-version/"
   ]
  },
  {
   "cell_type": "markdown",
   "metadata": {},
   "source": [
    "#### You can do this exercises at home"
   ]
  },
  {
   "cell_type": "code",
   "execution_count": 2,
   "metadata": {},
   "outputs": [],
   "source": [
    "# 1. Write a Python function to find the maximum of three numbers.\n",
    "\n",
    "\n",
    "# 2. Write a Python function to sum all the numbers in a list.\n",
    "# Sample List : (8, 2, 3, 0, 7)\n",
    "# Expected Output : 20\n",
    "\n",
    "\n",
    "# 3. Write a Python function to multiply all the numbers in a list.\n",
    "# Sample List : (8, 2, 3, -1, 7)\n",
    "# Expected Output : -336\n",
    "\n",
    "\n",
    "# 4. Write a Python program to reverse a string.\n",
    "# Sample String : \"1234abcd\"\n",
    "# Expected Output : \"dcba4321\"\n",
    "\n",
    "\n",
    "# 5. Write a Python function to calculate the factorial of a number (a non-negative integer). The function accepts the number as an argument.\n",
    "\n",
    "\n",
    "# 6. Write a Python function to check whether a number falls within a given range.\n",
    "\n",
    "\n",
    "# 7. Write a Python function that accepts a string and counts the number of upper and lower case letters.\n",
    "# Sample String : 'The quick Brow Fox'\n",
    "# Expected Output :\n",
    "# No. of Upper case characters : 3\n",
    "# No. of Lower case Characters : 12\n",
    "\n",
    "\n",
    "# 8. Write a Python function that takes a list and returns a new list with distinct elements from the first list.\n",
    "# Sample List : [1,2,3,3,3,3,4,5]\n",
    "# Unique List : [1, 2, 3, 4, 5]\n",
    "\n",
    "\n",
    "# 9. Write a Python function that takes a number as a parameter and checks whether the number is prime or not.\n",
    "# Note : A prime number (or a prime) is a natural number greater than 1 and that has no positive divisors other than 1 and itself.\n",
    "\n",
    "\n",
    "# 10. Write a Python program to print the even numbers from a given list.\n",
    "# Sample List : [1, 2, 3, 4, 5, 6, 7, 8, 9]\n",
    "# Expected Result : [2, 4, 6, 8]\n",
    "\n",
    "\n",
    "# 11. Write a Python function to check whether a number is \"Perfect\" or not.\n",
    "# According to Wikipedia : In number theory, a perfect number is a positive integer that is equal to the sum of its proper positive divisors, that is, the sum of its positive divisors excluding the number itself (also known as its aliquot sum). Equivalently, a perfect number is a number that is half the sum of all of its positive divisors (including itself).\n",
    "# Example : The first perfect number is 6, because 1, 2, and 3 are its proper positive divisors, and 1 + 2 + 3 = 6. Equivalently, the number 6 is equal to half the sum of all its positive divisors: ( 1 + 2 + 3 + 6 ) / 2 = 6. The next perfect number is 28 = 1 + 2 + 4 + 7 + 14. This is followed by the perfect numbers 496 and 8128.\n",
    "\n",
    "\n",
    "# 12. Write a Python function that prints out the first n rows of Pascal's triangle.\n",
    "# Note : Pascal's triangle is an arithmetic and geometric figure first imagined by Blaise Pascal.\n",
    "\n",
    "# Sample Pascal's triangle :\n",
    "\n",
    "# Pascal's triangle\n",
    "# Each number is the two numbers above it added together\n",
    "\n",
    "\n",
    "# 13. Write a Python function to check whether a string is a pangram or not.\n",
    "# Note : Pangrams are words or sentences containing every letter of the alphabet at least once.\n",
    "# For example : \"The quick brown fox jumps over the lazy dog\"\n",
    "\n",
    "\n",
    "# 14. Write a Python function that accepts a hyphen-separated sequence of words as input and returns the words in a hyphen-separated sequence after sorting them alphabetically.\n",
    "# Sample Items : green-red-yellow-black-white\n",
    "# Expected Result : black-green-red-white-yellow\n",
    "\n",
    "\n",
    "# 15. Write a Python function to create and print a list where the values are the squares of numbers between 1 and 30 (both included).\n",
    "\n",
    "\n",
    "# 16. Define a Python function which takes unlimted parameters as input and returns the result of the first number subtracted by all other numbers\n"
   ]
  },
  {
   "cell_type": "code",
   "execution_count": null,
   "metadata": {},
   "outputs": [],
   "source": []
  }
 ],
 "metadata": {
  "kernelspec": {
   "display_name": "Python 3",
   "language": "python",
   "name": "python3"
  },
  "language_info": {
   "codemirror_mode": {
    "name": "ipython",
    "version": 3
   },
   "file_extension": ".py",
   "mimetype": "text/x-python",
   "name": "python",
   "nbconvert_exporter": "python",
   "pygments_lexer": "ipython3",
   "version": "3.11.6"
  }
 },
 "nbformat": 4,
 "nbformat_minor": 2
}
