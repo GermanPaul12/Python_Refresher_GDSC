{
 "cells": [
  {
   "cell_type": "markdown",
   "metadata": {},
   "source": [
    "# Python Refresher by GDSC\n",
    "\n",
    "Hello guys and welcome to the Python Refresher by GDSC.\n",
    "We will cover the following topics:\n",
    "\n",
    "1. Variables [Notebook](###Variables) **2min**\n",
    "2. Data Types (str, int, float and bool) [Notebook](###Data-Types) **3min**\n",
    "3. Lists, Tuples, Dictionaries and Sets [Notebook](###Iterables) **5min**\n",
    "4. Indexing of Iterables [Notebook](###Indexing) **5min**\n",
    "5. Functions [Notebook](###Functions) **5min**\n",
    "6. Files I/O [Notebook](###Files-I/O) **5min**\n",
    "7. Classes [Notebook](###Classes) **5min**\n",
    "8. Quiz (Check for Palindrome, Valid Triangle, Fibonacci recursively, Binary Search) **45min**\n",
    "9. Data Analysis (Pandas, Matplotlib and Seaborn) **45min**"
   ]
  },
  {
   "cell_type": "markdown",
   "metadata": {},
   "source": [
    "### Variables"
   ]
  },
  {
   "cell_type": "code",
   "execution_count": 33,
   "metadata": {},
   "outputs": [],
   "source": [
    "# Allowed\n",
    "\n",
    "hello_1 = \"\"\n",
    "h1 = True\n",
    "num = 10.0\n",
    "n = 10\n",
    "_ = \"\"\n",
    "# Summary: Use underscores to connect words, nums only after a letter to name variables\n",
    "\n",
    "# Not allowed \n",
    "'''\n",
    "1hello = \"\"\n",
    ". = \"\"\n",
    "§ = \"\"\n",
    "- = \"\"\n",
    "Hallo? = \"\"\n",
    "hallo variable = \"\"\n",
    "'''\n",
    "# Summary: Do not start with numbers, do not use special characters and do not use spaces\n",
    "# Naming convention is using lowercase letters, connecting words with underscores \n",
    "# and try to name it so it is understandable for what it is used\n",
    "variable_name_example = \"\""
   ]
  },
  {
   "cell_type": "markdown",
   "metadata": {},
   "source": [
    "### Data Types"
   ]
  },
  {
   "cell_type": "code",
   "execution_count": 16,
   "metadata": {},
   "outputs": [
    {
     "data": {
      "text/plain": [
       "True"
      ]
     },
     "execution_count": 16,
     "metadata": {},
     "output_type": "execute_result"
    }
   ],
   "source": [
    "# Integer: Whole number\n",
    "# Float: Floating point number\n",
    "# String: Text\n",
    "# Boolean: Boolean value (True or False)\n",
    "\n",
    "# Operations on the DataTypes\n",
    "\n",
    "# Sum\n",
    "1 + 1 # 2 # int + int = int\n",
    "1.0 + 1.0 # 2.0 # float + float = float\n",
    "\"1\" + \"1\" # \"11\" # str + str = str\n",
    "True + True # bool + bool = int\n",
    "\n",
    "1 + 1.0 # 2.0 # int + float = float\n",
    "#\"1\" + 1 # TypeError \n",
    "\n",
    "\n",
    "# Multiplication \n",
    "\n",
    "\"1\" * 3 # \"111\" \n",
    "\n",
    "\n",
    "# Logical Operations\n",
    "\n",
    "# All empty values e.g. (), 0, None, False, [], \"\" -> False\n",
    "# All other values e.g. (0), 1, True, [\"Hallo\"], \"hallo\" -> True \n",
    "(1 and 1) or (1 and 0)\n",
    "True and False # False\n",
    "True or True # True\n",
    "[] or 2 # True\n",
    "[1] and \"a\" # True\n",
    "bool(2%2 or \"\" or [] or 0.2)\n"
   ]
  },
  {
   "cell_type": "markdown",
   "metadata": {},
   "source": [
    "### Iterables"
   ]
  },
  {
   "cell_type": "markdown",
   "metadata": {},
   "source": [
    "##### Lists\n",
    "##### Mutable: Lists are mutable, meaning you can modify their elements. You can change, add, or remove elements after the list is created.\n",
    "##### Denotation: Lists are denoted by square brackets [].\n",
    "##### Example:"
   ]
  },
  {
   "cell_type": "code",
   "execution_count": 17,
   "metadata": {},
   "outputs": [],
   "source": [
    "nums = [1,2,3,4,5,6]"
   ]
  },
  {
   "cell_type": "markdown",
   "metadata": {},
   "source": [
    "##### Tuples\n",
    "##### Immutable: Tuples are immutable, meaning once they are created, you cannot modify their elements. You can't add, remove, or change elements after creation.\n",
    "##### Denotation: Tuples are denoted by round brackets ().\n",
    "##### Example:"
   ]
  },
  {
   "cell_type": "code",
   "execution_count": 18,
   "metadata": {},
   "outputs": [],
   "source": [
    "point = (3, 5)"
   ]
  },
  {
   "cell_type": "markdown",
   "metadata": {},
   "source": [
    "##### Dictionaries\n",
    "##### Mutable: Dictionaries are mutable like lists, allowing you to modify, add, or remove key-value pairs. Keys have to be unique\n",
    "##### Denotation: Dictionaries are denoted by curly braces {}. Each element in a dictionary is a key-value pair, separated by a colon.\n",
    "##### Example:"
   ]
  },
  {
   "cell_type": "code",
   "execution_count": 19,
   "metadata": {},
   "outputs": [],
   "source": [
    "person = {'name': 'John', 'age': 25, 'city': 'New York'}"
   ]
  },
  {
   "cell_type": "markdown",
   "metadata": {},
   "source": [
    "##### Sets\n",
    "##### Mutable (but elements are immutable): Sets are mutable, but the elements inside a set must be immutable. You can add and remove elements from a set, but you can't have mutable elements like lists inside a set.\n",
    "##### Denotation: Sets are denoted by curly braces {}. They contain unique elements and do not allow duplicates."
   ]
  },
  {
   "cell_type": "code",
   "execution_count": 20,
   "metadata": {},
   "outputs": [],
   "source": [
    "my_set = {1, 2, 3, 4, 5}"
   ]
  },
  {
   "cell_type": "markdown",
   "metadata": {},
   "source": [
    "### Indexing"
   ]
  },
  {
   "cell_type": "code",
   "execution_count": 39,
   "metadata": {},
   "outputs": [
    {
     "data": {
      "text/plain": [
       "'Hola'"
      ]
     },
     "execution_count": 39,
     "metadata": {},
     "output_type": "execute_result"
    }
   ],
   "source": [
    "# We can use square brackets and the index to index strings,lists and tuples\n",
    "# Just a number is giving us information about the index we want to access\n",
    "\n",
    "# Just one double point gives us the whole list\n",
    "# A number before the double point indicates the starting index which is inclusive\n",
    "# A number after the first double point indicates the ending index which is exclusive\n",
    "# A number after the second double point indicates the step\n",
    "\n",
    "[1,2,3,4,5,6][0] # gives us the first element\n",
    "[1,2,3,4,5,6][-1] # gives us the last element\n",
    "[1,2,3,4,5,6][0:2] # gives us the first two elements, the start is inclusive and the end is exclusive\n",
    "[1,2,3,4,5,6][0::2] # gives us every second element\n",
    "[1,2,3,4,5,6][::-1] # gives us the list in reverse order\n",
    "\n",
    "# Ways to show the whole list\n",
    "[1,2,3,4,5,6][:]\n",
    "[1,2,3,4,5,6][::]\n",
    "[1,2,3,4,5,6][::1]\n",
    "# All operations work also for strings and tuples\n",
    "\n",
    "[[1,2,3,4],[\"Hola\",6,7,8]][1][0] # if we have nested lists we can index them by going from the outside to the inside\n",
    "# First we index the list we want to access inside the big list \n",
    "# and then we index the element we want to access inside the small list\n",
    "\n",
    "#? Index the number 4\n"
   ]
  },
  {
   "cell_type": "code",
   "execution_count": 38,
   "metadata": {},
   "outputs": [
    {
     "data": {
      "text/plain": [
       "'John'"
      ]
     },
     "execution_count": 38,
     "metadata": {},
     "output_type": "execute_result"
    }
   ],
   "source": [
    "# We can use square brackets and the key to index dictionaries\n",
    "person = {'name': 'John', 'age': 25, 'city': 'New York'}\n",
    "person[\"name\"] # gives us the value of the key \"name\"\n",
    "\n",
    "#? Index the age in the `person` dictionary\n"
   ]
  },
  {
   "cell_type": "markdown",
   "metadata": {},
   "source": [
    "### Functions"
   ]
  },
  {
   "cell_type": "code",
   "execution_count": 43,
   "metadata": {},
   "outputs": [
    {
     "name": "stdout",
     "output_type": "stream",
     "text": [
      "Help on function func_with_description in module __main__:\n",
      "\n",
      "func_with_description(x, y)\n",
      "    returns the sum of two inputs\n",
      "    \n",
      "    Args:\n",
      "        x (int): number 1\n",
      "        y (int): number 2\n",
      "\n"
     ]
    }
   ],
   "source": [
    "# a function consists in the minimum of a name and the syntax\n",
    "def minimal_func():\n",
    "    pass\n",
    "\n",
    "# we can add parameters to the function\n",
    "def func_with_params(x,y):\n",
    "    pass\n",
    "\n",
    "# now we can use the parameters in the function and return the result\n",
    "def func_with_params(x,y):\n",
    "    return x + y\n",
    "\n",
    "\n",
    "# we can use *args and **kwargs to accept unlimited number of arguments and key-word arguments\n",
    "def func_with_unlimited_params(*args, **kwargs):\n",
    "    return args, kwargs\n",
    "# e.g. arg 1 kwarg name=\"Tim\"\n",
    "# we can imagine args as a list and kwargs as a dictionary\n",
    "\n",
    "# if we want to be super fancy we can add a description to the function\n",
    "\n",
    "def func_with_description(x,y):\n",
    "    \"\"\"returns the sum of two inputs\n",
    "\n",
    "    Args:\n",
    "        x (int): number 1\n",
    "        y (int): number 2\n",
    "    \"\"\"\n",
    "    return x + y\n",
    "help(func_with_description)    \n",
    "\n",
    "#? Create a funtion which accepts unlimited numbers of arguments and returns the product of all arguments\n"
   ]
  },
  {
   "cell_type": "markdown",
   "metadata": {},
   "source": [
    "### Files I/O"
   ]
  },
  {
   "cell_type": "markdown",
   "metadata": {},
   "source": [
    "File modes: \\\n",
    "'r': Read (default mode). \\\n",
    "'w': Write (creates a new file or truncates an existing one). \\\n",
    "'a': Append (writing at the end without truncating). \\\n",
    "'b': Binary mode (e.g., 'rb' or 'wb'). \\\n",
    "'x': Exclusive creation, if the file already exists, the operation fails. \\\n",
    "'t': Text mode (default). \\\n",
    "'+': Read and write. \n",
    "\n",
    "##### Reading from a File\n",
    "\n",
    "`read()` method: Reads the entire file as a single string. \\\n",
    "e.g. file.read() \n",
    "\n",
    "`readline()` method: Reads a single line from the file. \\\n",
    "e.g. file.readline() \n",
    "`readlines()` method: Reads all lines from the file into a list. \\\n",
    "e.g. lines = file.readlines() \n",
    "\n",
    "##### Writing to a File\n",
    "\n",
    "`write()` method: Writes a string to the file. \\\n",
    "e.g. file.write(\"Hello, World!\") \n",
    "\n",
    "`writelines()` method: Writes a list of strings to the file. \\\n",
    "lines = ['Line 1\\n', 'Line 2\\n', 'Line 3\\n'] \\\n",
    "file.writelines(lines) "
   ]
  },
  {
   "cell_type": "code",
   "execution_count": 50,
   "metadata": {},
   "outputs": [
    {
     "name": "stdout",
     "output_type": "stream",
     "text": [
      "Hola Data Scientists\n"
     ]
    }
   ],
   "source": [
    "# File name or/and file path\n",
    "file_path = \"test_file.txt\"\n",
    "\n",
    "# with open(file_path, file_mode) as name_however_you_want_to_name_it:\n",
    "    # here you can do something with the file\n",
    "    \n",
    "with open(file_path, \"a+\") as f:\n",
    "    pass\n",
    "\n",
    "# The plus creates a new file if it already exits the file will be truncated to zero length because we use \"w\" as file mode\n",
    "with open(file_path, \"w+\") as f:\n",
    "    # fill file with content\n",
    "    f.write(\"Hola Data Scientists\")\n",
    "\n",
    "# Read file content\n",
    "with open(file_path, \"r\") as f:\n",
    "    file_content = f.read()\n",
    "    print(file_content)\n"
   ]
  },
  {
   "cell_type": "markdown",
   "metadata": {},
   "source": [
    "### Classes"
   ]
  },
  {
   "cell_type": "code",
   "execution_count": 54,
   "metadata": {},
   "outputs": [
    {
     "name": "stdout",
     "output_type": "stream",
     "text": [
      "Julian is 21 years old\n",
      "Emma is 20 years old and studies Data Science\n",
      "['Emma', 'Simon']\n"
     ]
    }
   ],
   "source": [
    "# We can create a class by using the class keyword and giving the class a name\n",
    "# The convention is to use Capitalization for the class name (First letter upercase and rest lowercase)\n",
    "class Person:\n",
    "    # constructor for the class it should at least contain self and the attributes we want the class to have\n",
    "    def __init__(self, name, age):\n",
    "        self.name = name\n",
    "        self.age = age\n",
    "    # the string mentioned here will be printed when printing the class\n",
    "    def __str__(self) -> str:\n",
    "        return f\"{self.name} is {self.age} years old\"\n",
    "\n",
    "# We can inherit from other class    \n",
    "class Student(Person):\n",
    "    # This is a class variable which is shared by all instances of the class\n",
    "    all_students = []\n",
    "    def __init__(self, name, age, major):\n",
    "        # We initialize the attributes of the super class\n",
    "        super().__init__(name, age)\n",
    "        self.major = major\n",
    "        # We append the name to the class variable\n",
    "        Student.all_students.append(self.name)\n",
    "    \n",
    "    def __str__(self) -> str:\n",
    "        return super().__str__() + f\" and studies {self.major}\"\n",
    "    \n",
    "    def get_all_students(self) -> list:\n",
    "        return Student.all_students\n",
    "    \n",
    "julian = Person(\"Julian\", 21)\n",
    "emma = Student(\"Emma\", 20, \"Data Science\")\n",
    "simon = Student(\"Simon\", 22, \"Business informatics\")\n",
    "print(julian, emma, sep=\"\\n\")        \n",
    "print(emma.get_all_students())\n",
    "        "
   ]
  },
  {
   "cell_type": "code",
   "execution_count": null,
   "metadata": {},
   "outputs": [],
   "source": []
  }
 ],
 "metadata": {
  "kernelspec": {
   "display_name": "Python 3",
   "language": "python",
   "name": "python3"
  },
  "language_info": {
   "codemirror_mode": {
    "name": "ipython",
    "version": 3
   },
   "file_extension": ".py",
   "mimetype": "text/x-python",
   "name": "python",
   "nbconvert_exporter": "python",
   "pygments_lexer": "ipython3",
   "version": "3.11.6"
  }
 },
 "nbformat": 4,
 "nbformat_minor": 2
}
