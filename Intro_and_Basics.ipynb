{
 "cells": [
  {
   "cell_type": "markdown",
   "metadata": {},
   "source": [
    "# Python Refresher by GDSC\n",
    "\n",
    "Hello guys and welcome to the Python Refresher by GDSC.\n",
    "We will cover the following topics:\n",
    "\n",
    "1. Variables (`Intro_and_Basics.ipynb`)\n",
    "2. Data Types (str, int, float and bool) (`Intro_and_Basics.ipynb`)\n",
    "3. Lists, Tuples, Dictionaries and Sets (`Intro_and_Basics.ipynb`)\n",
    "4. Indexing of Iterables (`Intro_and_Basics.ipynb`)\n",
    "5. Functions\n",
    "6. Files I/O\n",
    "7. Classes\n",
    "8. Quiz (Check for Palindrome, Valid Triagle and Fibonacci recursively)\n",
    "9. Data Analysis (Pandas, Matplotlib and Seaborn)"
   ]
  },
  {
   "cell_type": "markdown",
   "metadata": {},
   "source": [
    "### Variables and variable names"
   ]
  },
  {
   "cell_type": "code",
   "execution_count": 1,
   "metadata": {},
   "outputs": [
    {
     "data": {
      "text/plain": [
       "'\\n1hello = \"\"\\n. = \"\"\\n§ = \"\"\\n- = \"\"\\nHallo? = \"\"\\nhallo variable = \"\"\\n'"
      ]
     },
     "execution_count": 1,
     "metadata": {},
     "output_type": "execute_result"
    }
   ],
   "source": [
    "# Allowed\n",
    "\n",
    "hello_1 = \"\"\n",
    "h1 = True\n",
    "num = 10.0\n",
    "n = 10\n",
    "_ = \"\"\n",
    "# Summary: Use underscores to connect words, nums only after a letter to name variables\n",
    "\n",
    "# Not allowed \n",
    "'''\n",
    "1hello = \"\"\n",
    ". = \"\"\n",
    "§ = \"\"\n",
    "- = \"\"\n",
    "Hallo? = \"\"\n",
    "hallo variable = \"\"\n",
    "'''\n",
    "# Summary: Do not start with numbers, do not use special characters and do not use spaces"
   ]
  },
  {
   "cell_type": "markdown",
   "metadata": {},
   "source": []
  }
 ],
 "metadata": {
  "kernelspec": {
   "display_name": "Python 3",
   "language": "python",
   "name": "python3"
  },
  "language_info": {
   "codemirror_mode": {
    "name": "ipython",
    "version": 3
   },
   "file_extension": ".py",
   "mimetype": "text/x-python",
   "name": "python",
   "nbconvert_exporter": "python",
   "pygments_lexer": "ipython3",
   "version": "3.11.6"
  }
 },
 "nbformat": 4,
 "nbformat_minor": 2
}
